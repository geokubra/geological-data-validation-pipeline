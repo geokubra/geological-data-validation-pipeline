{
 "cells": [
  {
   "cell_type": "code",
   "execution_count": null,
   "id": "13e1ebf6",
   "metadata": {},
   "outputs": [],
   "source": [
    "import pandas as pd\n",
    "\n",
    "# File paths\n",
    "yogunluk_bizegelen_path = r\"C:/Users/kubra/Desktop/proje/density_field.xlsx\"\n",
    "yogunluk_sertifika_path = r\"C:/Users/kubra/Desktop/proje/density_lab.xlsx\"\n",
    "\n",
    "# Read the Excel files\n",
    "df1 = pd.read_excel(yogunluk_bizegelen_path)\n",
    "df2 = pd.read_excel(yogunluk_sertifika_path)\n",
    "\n",
    "# Convert column names to lowercase and remove spaces\n",
    "df1.columns = df1.columns.str.strip().str.lower()\n",
    "df2.columns = df2.columns.str.strip().str.lower()\n",
    "\n",
    "# Select only the required columns\n",
    "df1 = df1[[\"numune isareti\", \"yogunluk\"]]\n",
    "df2 = df2[[\"numune isareti\", \"yogunluk\"]]\n",
    "\n",
    "# Sorting\n",
    "df1_sorted = df1.sort_values(by=[\"numune isareti\", \"yogunluk\"]).reset_index(drop=True)\n",
    "df2_sorted = df2.sort_values(by=[\"numune isareti\", \"yogunluk\"]).reset_index(drop=True)\n",
    "\n",
    "# Comparison\n",
    "if df1_sorted.equals(df2_sorted):\n",
    "    # If the files are completely identical, write the result\n",
    "    pd.DataFrame({\"Result\": [\"The two files are completely identical.\"]}).to_excel(\"yogunluk_karsilastirma_sonuc.xlsx\", index=False)\n",
    "    print(\"✅ Both files are an exact match.\")\n",
    "else:\n",
    "    # Find the differences\n",
    "    sadece_df1 = pd.merge(df1, df2, on=[\"numune isareti\", \"yogunluk\"], how='left', indicator=True)\n",
    "    sadece_df1 = sadece_df1[sadece_df1['_merge'] == 'left_only'].drop(columns=['_merge'])\n",
    "\n",
    "    sadece_df2 = pd.merge(df2, df1, on=[\"numune isareti\", \"yogunluk\"], how='left', indicator=True)\n",
    "    sadece_df2 = sadece_df2[sadece_df2['_merge'] == 'left_only'].drop(columns=['_merge'])\n",
    "\n",
    "    # Write the result to an Excel file\n",
    "    with pd.ExcelWriter(\"yogunluk_karsilastirma_sonuc.xlsx\") as writer:\n",
    "        sadece_df1.to_excel(writer, sheet_name=\"Sadece_BizeGelen\", index=False)\n",
    "        sadece_df2.to_excel(writer, sheet_name=\"Sadece_Sertifika\", index=False)\n",
    "\n",
    "    print(\"⚠️ The files are different. Results have been written to 'yogunluk_karsilastirma_sonuc.xlsx'.\")\n"
   ]
  },
  {
   "cell_type": "code",
   "execution_count": null,
   "id": "bfa893c8",
   "metadata": {},
   "outputs": [],
   "source": []
  }
 ],
 "metadata": {
  "kernelspec": {
   "display_name": "Python 3 (ipykernel)",
   "language": "python",
   "name": "python3"
  },
  "language_info": {
   "codemirror_mode": {
    "name": "ipython",
    "version": 3
   },
   "file_extension": ".py",
   "mimetype": "text/x-python",
   "name": "python",
   "nbconvert_exporter": "python",
   "pygments_lexer": "ipython3",
   "version": "3.10.9"
  }
 },
 "nbformat": 4,
 "nbformat_minor": 5
}
